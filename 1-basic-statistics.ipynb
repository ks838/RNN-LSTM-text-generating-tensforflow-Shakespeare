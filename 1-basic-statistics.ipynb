{
 "cells": [
  {
   "cell_type": "code",
   "execution_count": 2,
   "metadata": {},
   "outputs": [
    {
     "name": "stdout",
     "output_type": "stream",
     "text": [
      "The total number of Shakespeare's complete work:  42\n",
      "['alls_well_ends_well', 'as_you_like_it', 'comedy_of_errors', 'hist_henry_4_1', 'hist_henry_4_2', 'hist_henry_5', 'hist_henry_6_1', 'hist_henry_6_2', 'hist_henry_6_3', 'hist_henry_8', 'hist_king_john', 'hist_richard_2', 'hist_richard_3', 'loves_labour_lost', 'measure_for_measure', 'merchant_of_venice', 'midsummer_nights_dream', 'much_ado_about_nothing', 'pericles', 'poetry_a_lovers_complaint', 'poetry_funeral', 'poetry_lucrece', 'poetry_sonnets', 'poetry_venus', 'the_merry_wives_of_winsdor', 'the_taming_of_the_shrew', 'the_tempest', 'tragedy_antony_cleopatra', 'tragedy_cymbeline', 'tragedy_julius_caesar', 'tragedy_king_lear', 'tragedy_of_coriolanus', 'tragedy_of_hamlet', 'tragedy_of_macbeth', 'tragedy_othello', 'tragedy_romeo_and_juliet', 'tragedy_timon_of_athens', 'tragedy_titus_andronicus', 'tragedy_troilus_and_cressida', 'twelfth_night', 'two_gentlemen_of_verona', 'winters_tale']\n"
     ]
    }
   ],
   "source": [
    "from os import listdir\n",
    "from os.path import isfile, join\n",
    "\n",
    "path_shake = './complete_works/'\n",
    "all_files = [f.replace('.txt','') for f in listdir(path_shake) if isfile(join(path_shake, f))]\n",
    "n_files = len(all_files)\n",
    "print(\"The total number of Shakespeare's complete work: \",n_files)\n",
    "print(all_files)"
   ]
  },
  {
   "cell_type": "code",
   "execution_count": 4,
   "metadata": {
    "collapsed": true
   },
   "outputs": [],
   "source": [
    "tragedy = 'tragedy'\n",
    "n_tragedy = 0\n",
    "tragedy_files=[]\n",
    "\n",
    "poetry = 'poetry'\n",
    "n_poetry = 0\n",
    "poetry_files = []\n",
    "sonnet = 'sonnet'\n",
    "n_sonnet = 0\n",
    "\n",
    "history = 'hist'\n",
    "n_hist = 0\n",
    "hist_files = []\n",
    "\n",
    "n_comedy = 0\n",
    "comedy_files = []\n",
    "\n",
    "for i in range(num):\n",
    "\n",
    "    if(tragedy in all_files[i]):\n",
    "        n_tragedy +=1\n",
    "        tragedy_files.append(all_files[i])\n",
    "    elif(history in all_files[i]):\n",
    "        n_hist +=1\n",
    "        hist_files.append(all_files[i])\n",
    "    elif(poetry in all_files[i]):\n",
    "        n_poetry +=1\n",
    "        poetry_files.append(all_files[i])\n",
    "        if(sonnet in all_files[i]):\n",
    "            n_sonnet +=1\n",
    "    else:\n",
    "        n_comedy +=1\n",
    "        comedy_files.append(all_files[i])"
   ]
  },
  {
   "cell_type": "code",
   "execution_count": 5,
   "metadata": {},
   "outputs": [
    {
     "name": "stdout",
     "output_type": "stream",
     "text": [
      "n_tragedy =  12\n",
      "The tragedies are: \n",
      " ['tragedy_antony_cleopatra.txt', 'tragedy_cymbeline.txt', 'tragedy_julius_caesar.txt', 'tragedy_king_lear.txt', 'tragedy_of_coriolanus.txt', 'tragedy_of_hamlet.txt', 'tragedy_of_macbeth.txt', 'tragedy_othello.txt', 'tragedy_romeo_and_juliet.txt', 'tragedy_timon_of_athens.txt', 'tragedy_titus_andronicus.txt', 'tragedy_troilus_and_cressida.txt']\n"
     ]
    }
   ],
   "source": [
    "print(\"n_tragedy = \",n_tragedy) # 12\n",
    "print(\"The tragedies are: \\n\",tragedy_files)"
   ]
  },
  {
   "cell_type": "code",
   "execution_count": 6,
   "metadata": {},
   "outputs": [
    {
     "name": "stdout",
     "output_type": "stream",
     "text": [
      "n_hist =  10\n",
      "The histories are: \n",
      " ['tragedy_antony_cleopatra.txt', 'tragedy_cymbeline.txt', 'tragedy_julius_caesar.txt', 'tragedy_king_lear.txt', 'tragedy_of_coriolanus.txt', 'tragedy_of_hamlet.txt', 'tragedy_of_macbeth.txt', 'tragedy_othello.txt', 'tragedy_romeo_and_juliet.txt', 'tragedy_timon_of_athens.txt', 'tragedy_titus_andronicus.txt', 'tragedy_troilus_and_cressida.txt']\n"
     ]
    }
   ],
   "source": [
    "print(\"n_hist = \",n_hist) # 10\n",
    "print(\"The histories are: \\n\",tragedy_files)"
   ]
  },
  {
   "cell_type": "code",
   "execution_count": 7,
   "metadata": {
    "scrolled": true
   },
   "outputs": [
    {
     "name": "stdout",
     "output_type": "stream",
     "text": [
      "n_poetry = 5, while 1 of them are sonnets.\n",
      "The poetries are: \n",
      " ['poetry_a_lovers_complaint.txt', 'poetry_funeral.txt', 'poetry_lucrece.txt', 'poetry_sonnets.txt', 'poetry_venus.txt']\n"
     ]
    }
   ],
   "source": [
    "print(\"n_poetry = %d,\"%n_poetry, \"while %d of them are sonnets.\"%n_sonnet) # 5\n",
    "print(\"The poetries are: \\n\",poetry_files)"
   ]
  },
  {
   "cell_type": "code",
   "execution_count": 8,
   "metadata": {},
   "outputs": [
    {
     "name": "stdout",
     "output_type": "stream",
     "text": [
      "n_comedy =  15\n",
      "The comedies are: \n",
      " ['alls_well_ends_well.txt', 'as_you_like_it.txt', 'comedy_of_errors.txt', 'loves_labour_lost.txt', 'measure_for_measure.txt', 'merchant_of_venice.txt', 'midsummer_nights_dream.txt', 'much_ado_about_nothing.txt', 'pericles.txt', 'the_merry_wives_of_winsdor.txt', 'the_taming_of_the_shrew.txt', 'the_tempest.txt', 'twelfth_night.txt', 'two_gentlemen_of_verona.txt', 'winters_tale.txt']\n"
     ]
    }
   ],
   "source": [
    "print(\"n_comedy = \",n_comedy) # 15\n",
    "print(\"The comedies are: \\n\",comedy_files)"
   ]
  },
  {
   "cell_type": "code",
   "execution_count": 12,
   "metadata": {},
   "outputs": [
    {
     "name": "stdout",
     "output_type": "stream",
     "text": [
      "1\n",
      "Total word numbers of alls_well_ends_well:  24385\n",
      "Total line numbers of alls_well_ends_well:  4156\n",
      "\n",
      "2\n",
      "Total word numbers of as_you_like_it:  22835\n",
      "Total line numbers of as_you_like_it:  3758\n",
      "\n",
      "3\n",
      "Total word numbers of comedy_of_errors:  16178\n",
      "Total line numbers of comedy_of_errors:  2743\n",
      "\n",
      "4\n",
      "Total word numbers of hist_henry_4_1:  26049\n",
      "Total line numbers of hist_henry_4_1:  4132\n",
      "\n",
      "5\n",
      "Total word numbers of hist_henry_4_2:  27795\n",
      "Total line numbers of hist_henry_4_2:  4417\n",
      "\n",
      "6\n",
      "Total word numbers of hist_henry_5:  27497\n",
      "Total line numbers of hist_henry_5:  4275\n",
      "\n",
      "7\n",
      "Total word numbers of hist_henry_6_1:  22927\n",
      "Total line numbers of hist_henry_6_1:  3826\n",
      "\n",
      "8\n",
      "Total word numbers of hist_henry_6_2:  26860\n",
      "Total line numbers of hist_henry_6_2:  4314\n",
      "\n",
      "9\n",
      "Total word numbers of hist_henry_6_3:  25991\n",
      "Total line numbers of hist_henry_6_3:  4132\n",
      "\n",
      "10\n",
      "Total word numbers of hist_henry_8:  25976\n",
      "Total line numbers of hist_henry_8:  4259\n",
      "\n",
      "11\n",
      "Total word numbers of hist_king_john:  21752\n",
      "Total line numbers of hist_king_john:  3421\n",
      "\n",
      "12\n",
      "Total word numbers of hist_richard_2:  23907\n",
      "Total line numbers of hist_richard_2:  3611\n",
      "\n",
      "13\n",
      "Total word numbers of hist_richard_3:  31457\n",
      "Total line numbers of hist_richard_3:  5248\n",
      "\n",
      "14\n",
      "Total word numbers of loves_labour_lost:  22938\n",
      "Total line numbers of loves_labour_lost:  4148\n",
      "\n",
      "15\n",
      "Total word numbers of measure_for_measure:  23169\n",
      "Total line numbers of measure_for_measure:  4040\n",
      "\n",
      "16\n",
      "Total word numbers of merchant_of_venice:  22203\n",
      "Total line numbers of merchant_of_venice:  3558\n",
      "\n",
      "17\n",
      "Total word numbers of midsummer_nights_dream:  17182\n",
      "Total line numbers of midsummer_nights_dream:  2935\n",
      "\n",
      "18\n",
      "Total word numbers of much_ado_about_nothing:  22537\n",
      "Total line numbers of much_ado_about_nothing:  3789\n",
      "\n",
      "19\n",
      "Total word numbers of pericles:  19585\n",
      "Total line numbers of pericles:  3434\n",
      "\n",
      "20\n",
      "Total word numbers of poetry_a_lovers_complaint:  2561\n",
      "Total line numbers of poetry_a_lovers_complaint:  333\n",
      "\n",
      "21\n",
      "Total word numbers of poetry_funeral:  4493\n",
      "Total line numbers of poetry_funeral:  588\n",
      "\n",
      "22\n",
      "Total word numbers of poetry_lucrece:  15013\n",
      "Total line numbers of poetry_lucrece:  1872\n",
      "\n",
      "23\n",
      "Total word numbers of poetry_sonnets:  18077\n",
      "Total line numbers of poetry_sonnets:  2468\n",
      "\n",
      "24\n",
      "Total word numbers of poetry_venus:  9870\n",
      "Total line numbers of poetry_venus:  1209\n",
      "\n",
      "25\n",
      "Total word numbers of the_merry_wives_of_winsdor:  23714\n",
      "Total line numbers of the_merry_wives_of_winsdor:  4049\n",
      "\n",
      "26\n",
      "Total word numbers of the_taming_of_the_shrew:  22143\n",
      "Total line numbers of the_taming_of_the_shrew:  3857\n",
      "\n",
      "27\n",
      "Total word numbers of the_tempest:  17433\n",
      "Total line numbers of the_tempest:  3163\n",
      "\n",
      "28\n",
      "Total word numbers of tragedy_antony_cleopatra:  27061\n",
      "Total line numbers of tragedy_antony_cleopatra:  5297\n",
      "\n",
      "29\n",
      "Total word numbers of tragedy_cymbeline:  28895\n",
      "Total line numbers of tragedy_cymbeline:  5004\n",
      "\n",
      "30\n",
      "Total word numbers of tragedy_julius_caesar:  20899\n",
      "Total line numbers of tragedy_julius_caesar:  3726\n",
      "\n",
      "31\n",
      "Total word numbers of tragedy_king_lear:  27819\n",
      "Total line numbers of tragedy_king_lear:  5077\n",
      "\n",
      "32\n",
      "Total word numbers of tragedy_of_coriolanus:  29282\n",
      "Total line numbers of tragedy_of_coriolanus:  5304\n",
      "\n",
      "33\n",
      "Total word numbers of tragedy_of_hamlet:  32222\n",
      "Total line numbers of tragedy_of_hamlet:  5593\n",
      "\n",
      "34\n",
      "Total word numbers of tragedy_of_macbeth:  18272\n",
      "Total line numbers of tragedy_of_macbeth:  3411\n",
      "\n",
      "35\n",
      "Total word numbers of tragedy_othello:  27933\n",
      "Total line numbers of tragedy_othello:  5135\n",
      "\n",
      "36\n",
      "Total word numbers of tragedy_romeo_and_juliet:  25847\n",
      "Total line numbers of tragedy_romeo_and_juliet:  4350\n",
      "\n",
      "37\n",
      "Total word numbers of tragedy_timon_of_athens:  19648\n",
      "Total line numbers of tragedy_timon_of_athens:  3579\n",
      "\n",
      "38\n",
      "Total word numbers of tragedy_titus_andronicus:  21778\n",
      "Total line numbers of tragedy_titus_andronicus:  3453\n",
      "\n",
      "39\n",
      "Total word numbers of tragedy_troilus_and_cressida:  27583\n",
      "Total line numbers of tragedy_troilus_and_cressida:  5050\n",
      "\n",
      "40\n",
      "Total word numbers of twelfth_night:  21465\n",
      "Total line numbers of twelfth_night:  3720\n",
      "\n",
      "41\n",
      "Total word numbers of two_gentlemen_of_verona:  18256\n",
      "Total line numbers of two_gentlemen_of_verona:  3319\n",
      "\n",
      "42\n",
      "Total word numbers of winters_tale:  25875\n",
      "Total line numbers of winters_tale:  4350\n",
      "\n"
     ]
    }
   ],
   "source": [
    "# words and lines counting\n",
    "import numpy as np \n",
    "import codecs\n",
    "\n",
    "word_count = np.zeros(n_files)\n",
    "line_count = np.zeros(n_files)\n",
    "\n",
    "for i in range(n_files):\n",
    "    file_name = './complete_works/'+ all_files[i]+'.txt'\n",
    "    with codecs.open(file_name, \"r\",encoding='utf-8', errors='ignore') as fdata:\n",
    "        data = fdata.read()\n",
    "        sentences_1 = data.split('\\n')\n",
    "        sentences_2 = [elem for elem in sentences_1 if elem !='']\n",
    "\n",
    "        for part in sentences_2:\n",
    "            word_list = part.split(' ')\n",
    "            word_count[i] += len(word_list)\n",
    "            line_count[i] += 1\n",
    "        print(i+1)\n",
    "        print(\"Total word numbers of \"+all_files[i]+\": \", int(word_count[i]))\n",
    "        print(\"Total line numbers of \"+all_files[i]+\": \", int(line_count[i]))\n",
    "        print('')"
   ]
  },
  {
   "cell_type": "code",
   "execution_count": null,
   "metadata": {
    "collapsed": true
   },
   "outputs": [],
   "source": []
  }
 ],
 "metadata": {
  "kernelspec": {
   "display_name": "Python [conda root]",
   "language": "python",
   "name": "conda-root-py"
  },
  "language_info": {
   "codemirror_mode": {
    "name": "ipython",
    "version": 3
   },
   "file_extension": ".py",
   "mimetype": "text/x-python",
   "name": "python",
   "nbconvert_exporter": "python",
   "pygments_lexer": "ipython3",
   "version": "3.5.3"
  }
 },
 "nbformat": 4,
 "nbformat_minor": 2
}
